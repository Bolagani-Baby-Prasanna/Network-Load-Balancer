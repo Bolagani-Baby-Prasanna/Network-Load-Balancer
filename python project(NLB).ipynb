{
 "cells": [
  {
   "cell_type": "code",
   "execution_count": 1,
   "id": "1c1e5a85-08a7-4f3a-aa71-be107d471b96",
   "metadata": {},
   "outputs": [
    {
     "name": "stdout",
     "output_type": "stream",
     "text": [
      "Backend server started on port 9001\n",
      "Backend server started on port 9002\n",
      "Backend server started on port 9003\n"
     ]
    }
   ],
   "source": [
    "import socket\n",
    "import threading\n",
    "\n",
    "# Function to start a backend server\n",
    "def start_backend_server(port):\n",
    "    server_socket = socket.socket(socket.AF_INET, socket.SOCK_STREAM)\n",
    "    server_socket.bind(('127.0.0.1', port))\n",
    "    server_socket.listen(5)\n",
    "    print(f\"Backend server started on port {port}\")\n",
    "\n",
    "    while True:\n",
    "        client_socket, address = server_socket.accept()\n",
    "        print(f\"Connection received on server {port} from {address}\")\n",
    "        client_socket.sendall(f\"Response from server {port}\".encode('utf-8'))\n",
    "        client_socket.close()\n",
    "\n",
    "# Starting backend servers on ports 9001, 9002, and 9003 in separate threads\n",
    "for port in [9001, 9002, 9003]:\n",
    "    thread = threading.Thread(target=start_backend_server, args=(port,))\n",
    "    thread.daemon = True\n",
    "    thread.start()\n"
   ]
  },
  {
   "cell_type": "code",
   "execution_count": 3,
   "id": "683bde94-5f26-40cc-98a6-869e7a1e7d12",
   "metadata": {},
   "outputs": [
    {
     "name": "stdout",
     "output_type": "stream",
     "text": [
      "Load balancer is running on port 8080...\n"
     ]
    }
   ],
   "source": [
    "import socket\n",
    "import threading\n",
    "\n",
    "# List of backend servers\n",
    "backend_servers = [('127.0.0.1', 9001), ('127.0.0.1', 9002), ('127.0.0.1', 9003)]\n",
    "\n",
    "# Round-robin index tracker\n",
    "round_robin_index = 0\n",
    "\n",
    "# Function to choose the next backend server using round-robin\n",
    "def get_next_server():\n",
    "    global round_robin_index\n",
    "    server = backend_servers[round_robin_index]\n",
    "    round_robin_index = (round_robin_index + 1) % len(backend_servers)\n",
    "    return server\n",
    "\n",
    "# Function to handle client connection\n",
    "def handle_client(client_socket):\n",
    "    server = get_next_server()\n",
    "    print(f\"Routing request to backend server {server}\")\n",
    "\n",
    "    # Connect to the selected backend server\n",
    "    backend_socket = socket.socket(socket.AF_INET, socket.SOCK_STREAM)\n",
    "    backend_socket.connect(server)\n",
    "\n",
    "    # Forward the request to the backend server and get the response\n",
    "    backend_socket.sendall(b\"Hello from Load Balancer\")\n",
    "    response = backend_socket.recv(4096)\n",
    "\n",
    "    # Send the response back to the client\n",
    "    client_socket.sendall(response)\n",
    "    client_socket.close()\n",
    "    backend_socket.close()\n",
    "\n",
    "# Load balancer function\n",
    "def start_load_balancer():\n",
    "    load_balancer_socket = socket.socket(socket.AF_INET, socket.SOCK_STREAM)\n",
    "    load_balancer_socket.bind(('0.0.0.0', 8080))\n",
    "    load_balancer_socket.listen(5)\n",
    "    print(\"Load balancer is running on port 8080...\")\n",
    "\n",
    "    while True:\n",
    "        client_socket, _ = load_balancer_socket.accept()\n",
    "        client_handler = threading.Thread(target=handle_client, args=(client_socket,))\n",
    "        client_handler.start()\n",
    "\n",
    "# Start the load balancer in a separate thread\n",
    "load_balancer_thread = threading.Thread(target=start_load_balancer)\n",
    "load_balancer_thread.daemon = True\n",
    "load_balancer_thread.start()\n"
   ]
  },
  {
   "cell_type": "code",
   "execution_count": 5,
   "id": "0b3f7767-4336-4827-a3b7-6082c8c0936c",
   "metadata": {},
   "outputs": [
    {
     "name": "stdout",
     "output_type": "stream",
     "text": [
      "Routing request to backend server ('127.0.0.1', 9001)\n",
      "Connection received on server 9001 from ('127.0.0.1', 60511)\n",
      "Client received: Response from server 9001\n",
      "Routing request to backend server ('127.0.0.1', 9002)\n",
      "Connection received on server 9002 from ('127.0.0.1', 60513)\n",
      "Client received: Response from server 9002\n",
      "Routing request to backend server ('127.0.0.1', 9003)\n",
      "Connection received on server 9003 from ('127.0.0.1', 60515)\n",
      "Client received: Response from server 9003\n",
      "Routing request to backend server ('127.0.0.1', 9001)\n",
      "Connection received on server 9001 from ('127.0.0.1', 60517)\n",
      "Client received: Response from server 9001\n",
      "Routing request to backend server ('127.0.0.1', 9002)\n",
      "Connection received on server 9002 from ('127.0.0.1', 60519)\n",
      "Client received: Response from server 9002\n"
     ]
    }
   ],
   "source": [
    "import socket\n",
    "\n",
    "# Function to simulate a client sending a request to the load balancer\n",
    "def simulate_client_request(request_number):\n",
    "    client_socket = socket.socket(socket.AF_INET, socket.SOCK_STREAM)\n",
    "    client_socket.connect(('127.0.0.1', 8080))\n",
    "    client_socket.sendall(f\"Request {request_number}\".encode('utf-8')) # What is UTF-8?\n",
    "    \n",
    "    response = client_socket.recv(4096)\n",
    "    print(f\"Client received: {response.decode('utf-8')}\")\n",
    "    client_socket.close()\n",
    "\n",
    "# Send 5 requests to the load balancer\n",
    "for i in range(1, 6):\n",
    "    simulate_client_request(i)\n"
   ]
  },
  {
   "cell_type": "code",
   "execution_count": null,
   "id": "97491d09-566a-4a74-af21-a118b80f23cf",
   "metadata": {},
   "outputs": [],
   "source": []
  }
 ],
 "metadata": {
  "kernelspec": {
   "display_name": "Python 3 (ipykernel)",
   "language": "python",
   "name": "python3"
  },
  "language_info": {
   "codemirror_mode": {
    "name": "ipython",
    "version": 3
   },
   "file_extension": ".py",
   "mimetype": "text/x-python",
   "name": "python",
   "nbconvert_exporter": "python",
   "pygments_lexer": "ipython3",
   "version": "3.12.4"
  }
 },
 "nbformat": 4,
 "nbformat_minor": 5
}
